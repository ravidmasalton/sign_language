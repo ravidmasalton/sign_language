{
  "cells": [
    {
      "cell_type": "code",
      "execution_count": null,
      "metadata": {
        "gather": {
          "logged": 1750153519272
        },
        "id": "Xm-j5EukfQyr"
      },
      "outputs": [],
      "source": [
        "import numpy as np    # Numerical operations\n",
        "import os             # OS file operations\n",
        "import glob           # File pattern matching\n",
        "from tqdm import tqdm # Progress bar\n",
        "import cv2            # Image & video processing"
      ]
    },
    {
      "cell_type": "code",
      "execution_count": null,
      "metadata": {
        "gather": {
          "logged": 1747119505194
        }
      },
      "outputs": [],
      "source": [
        "!pip install mediapipe  # Install MediaPipe library\n"
      ]
    },
    {
      "cell_type": "code",
      "execution_count": null,
      "metadata": {
        "gather": {
          "logged": 1748244721715
        }
      },
      "outputs": [],
      "source": [
        "import mediapipe as mp  # Import MediaPipe library\n",
        "\n",
        "mp_holistic = mp.solutions.holistic  # Shortcut for holistic module\n",
        "\n",
        "# Initialize Holistic model for landmark detection on images\n",
        "holistic_image = mp_holistic.Holistic(\n",
        "    static_image_mode=True,        # Process static images\n",
        "    model_complexity=2,            # Higher model complexity for better accuracy\n",
        "    smooth_landmarks=True,         # Smooth landmark detection\n",
        "    enable_segmentation=False,     # Disable segmentation mask\n",
        "    refine_face_landmarks=False,   # No extra refinement for face landmarks\n",
        "    min_detection_confidence=0.7,  # Minimum confidence for detection\n",
        "    min_tracking_confidence=0.7    # Minimum confidence for tracking\n",
        ")\n"
      ]
    },
    {
      "cell_type": "code",
      "execution_count": null,
      "metadata": {
        "gather": {
          "logged": 1750153522021
        },
        "id": "FjlLsqHt5Ybd"
      },
      "outputs": [],
      "source": [
        "DATA_PATH = \"./processed_keypoints\"  # Output folder for keypoints\n",
        "os.makedirs(DATA_PATH, exist_ok=True)  # Create folder if it doesn't exist\n",
        "\n",
        "sequence_length = 30  # Number of frames per video sample\n"
      ]
    },
    {
      "cell_type": "code",
      "execution_count": null,
      "metadata": {
        "gather": {
          "logged": 1749116757923
        }
      },
      "outputs": [],
      "source": [
        "def extract_keypoints_from_holistic(results) -> np.ndarray | None:\n",
        "    \"\"\"\n",
        "    Flatten pose + left & right hand landmarks into a 225-dim vector,\n",
        "    or return None if neither hand is detected.\n",
        "    \"\"\"\n",
        "    # Initialize pose (33 landmarks × 3 coordinates)\n",
        "    pose = np.zeros(33 * 3, dtype=np.float32)\n",
        "    if results.pose_landmarks:\n",
        "        pts = [[lm.x, lm.y, 0.0] for lm in results.pose_landmarks.landmark]\n",
        "        pose = np.array(pts, dtype=np.float32).flatten()\n",
        "\n",
        "    # Initialize left and right hands (21 landmarks × 3 coordinates each)\n",
        "    lh = np.zeros(21 * 3, dtype=np.float32)\n",
        "    rh = np.zeros(21 * 3, dtype=np.float32)\n",
        "    valid = False  # Flag to check hand detection\n",
        "\n",
        "    if results.left_hand_landmarks:\n",
        "        pts = [[lm.x, lm.y, lm.z] for lm in results.left_hand_landmarks.landmark]\n",
        "        lh = np.array(pts, dtype=np.float32).flatten()\n",
        "        valid = True\n",
        "\n",
        "    if results.right_hand_landmarks:\n",
        "        pts = [[lm.x, lm.y, lm.z] for lm in results.right_hand_landmarks.landmark]\n",
        "        rh = np.array(pts, dtype=np.float32).flatten()\n",
        "        valid = True\n",
        "\n",
        "    if not valid:\n",
        "        return None  # Return None if no hands detected\n",
        "\n",
        "    return np.concatenate([pose, lh, rh])  # Combine pose + hands"
      ]
    },
    {
      "cell_type": "code",
      "execution_count": null,
      "metadata": {},
      "outputs": [],
      "source": [
        "def sample_uniform_indices(total: int, target: int) -> list[int]:\n",
        "    \"\"\"\n",
        "    Returns `target` indices uniformly spaced across [0, total).\n",
        "    If total >= target: picks floor(i * total/target).\n",
        "    If total < target: returns 0..total-1.\n",
        "    \"\"\"\n",
        "    \n",
        "    if total <= 0:\n",
        "        return []  # No valid indices\n",
        "    \n",
        "    if total >= target:\n",
        "        return [int(i * total / target) for i in range(target)]  # Uniform spacing\n",
        "    \n",
        "    return list(range(total))  # Return all available indices if total < target\n"
      ]
    },
    {
      "cell_type": "code",
      "execution_count": null,
      "metadata": {
        "gather": {
          "logged": 1747226385041
        }
      },
      "outputs": [],
      "source": [
        "def process_and_sample_video(\n",
        "    video_path: str,\n",
        "    sequence_length: int,\n",
        "    holistic: mp.solutions.holistic.Holistic\n",
        ") -> np.ndarray | None:\n",
        "    \"\"\"\n",
        "    1) Reads every frame, extracts keypoints, filters out frames with no hands.\n",
        "    2) Uniformly samples or pads to `sequence_length`.\n",
        "    Returns an array of shape (sequence_length, 225), or None if too few valid frames.\n",
        "    \"\"\"\n",
        "    \n",
        "    cap = cv2.VideoCapture(video_path)  # Open video file\n",
        "    valid_kps = []  # Store valid keypoints\n",
        "\n",
        "    while True:\n",
        "        ret, frame = cap.read()\n",
        "        if not ret:\n",
        "            break  # End of video\n",
        "\n",
        "        frame_rgb = cv2.cvtColor(frame, cv2.COLOR_BGR2RGB)  # Convert to RGB\n",
        "        results = holistic.process(frame_rgb)  # Run holistic model\n",
        "        kp = extract_keypoints_from_holistic(results)  # Extract keypoints\n",
        "\n",
        "        if kp is not None:\n",
        "            valid_kps.append(kp)\n",
        "\n",
        "    cap.release()\n",
        "\n",
        "    n = len(valid_kps)\n",
        "    if n == 0:\n",
        "        return None  # No valid frames\n",
        "\n",
        "    if n >= sequence_length:\n",
        "        idxs = sample_uniform_indices(n, sequence_length)  # Uniform sampling\n",
        "        sampled = [valid_kps[i] for i in idxs]\n",
        "    else:\n",
        "        sampled = valid_kps.copy()  # Use all valid frames\n",
        "        last = valid_kps[-1]\n",
        "        sampled += [last] * (sequence_length - n)  # Pad by repeating last frame\n",
        "\n",
        "    return np.stack(sampled, axis=0)  # Shape: (sequence_length, 225)\n"
      ]
    },
    {
      "cell_type": "code",
      "execution_count": null,
      "metadata": {
        "gather": {
          "logged": 1749127874202
        }
      },
      "outputs": [],
      "source": [
        "import os  # File operations\n",
        "import cv2  # Video processing\n",
        "import numpy as np  # Array operations\n",
        "from tqdm import tqdm  # Progress bar\n",
        "import mediapipe as mp  # Landmark detection\n",
        "\n",
        "def process_all_videos_holistic_image_mode(\n",
        "    base_path: str,\n",
        "    output_path: str,\n",
        "    sequence_length: int = 30\n",
        "):\n",
        "    mp_holistic = mp.solutions.holistic  # Holistic module\n",
        "    os.makedirs(output_path, exist_ok=True)  # Create output folder\n",
        "\n",
        "    with mp_holistic.Holistic(\n",
        "        static_image_mode=True,        # Process frames as static images\n",
        "        model_complexity=2,\n",
        "        smooth_landmarks=False,\n",
        "        refine_face_landmarks=False,\n",
        "        min_detection_confidence=0.5,\n",
        "        min_tracking_confidence=0.5\n",
        "    ) as holistic:\n",
        "\n",
        "        words = sorted(os.listdir(base_path))  # List of word folders\n",
        "        for word in tqdm(words, desc=\"Words\"):\n",
        "            word_dir = os.path.join(base_path, word)\n",
        "            if not os.path.isdir(word_dir):\n",
        "                continue\n",
        "\n",
        "            videos = sorted([v for v in os.listdir(word_dir) if v.lower().endswith(\".mp4\")])\n",
        "            for video in tqdm(videos, desc=f\"{word}\", leave=False):\n",
        "                video_path = os.path.join(word_dir, video)\n",
        "                kps = process_and_sample_video(video_path, sequence_length, holistic)\n",
        "                \n",
        "                if kps is None:\n",
        "                    print(f\"Skipping {video} – no valid hand frames\")\n",
        "                    continue\n",
        "\n",
        "                name = os.path.splitext(video)[0]\n",
        "                out_dir = os.path.join(output_path, word, name)\n",
        "                os.makedirs(out_dir, exist_ok=True)\n",
        "                np.save(os.path.join(out_dir, \"keypoints.npy\"), kps)  # Save keypoints\n",
        "                print(f\"Saved {word}/{name} – shape {kps.shape}\")\n",
        "\n",
        "    print(f\"\\nAll videos processed with Holistic IMAGE mode to: {output_path}\")\n",
        "\n",
        "if __name__ == \"__main__\":\n",
        "    BASE_PATH   = \"./videos\"  # Input videos path\n",
        "    OUTPUT_PATH = \"./processed_keypoints\"  # Output folder\n",
        "    SEQ_LEN     = 30  # Frames per sequence\n",
        "    process_all_videos_holistic_image_mode(BASE_PATH, OUTPUT_PATH, SEQ_LEN)\n"
      ]
    },
    {
      "cell_type": "code",
      "execution_count": null,
      "metadata": {
        "gather": {
          "logged": 1750153551282
        }
      },
      "outputs": [],
      "source": [
        "import os  # File operations\n",
        "import numpy as np  # Array operations\n",
        "from collections import defaultdict  # Counting occurrences\n",
        "import pandas as pd  # DataFrames and tables\n",
        "\n",
        "# Path to folder with keypoints.npy files\n",
        "output_path = \"./processed_keypoints\"\n",
        "\n",
        "# Map words to numeric labels\n",
        "all_words = sorted(os.listdir(output_path))\n",
        "label_map = {word: idx for idx, word in enumerate(all_words)}\n",
        "\n",
        "def load_sequences_from_path(base_path, actions, label_map, sequence_length):\n",
        "    sequences, labels = [], []\n",
        "    word_counts = defaultdict(int)  # Count samples per word\n",
        "\n",
        "    for action in actions:\n",
        "        action_path = os.path.join(base_path, action)\n",
        "        if not os.path.exists(action_path):\n",
        "            continue\n",
        "\n",
        "        for sequence_name in sorted(os.listdir(action_path)):\n",
        "            sequence_path = os.path.join(action_path, sequence_name, \"keypoints.npy\")\n",
        "            if not os.path.exists(sequence_path):\n",
        "                continue\n",
        "\n",
        "            keypoints_sequence = np.load(sequence_path)\n",
        "\n",
        "            # Check sequence shape (sequence_length frames × 225 features)\n",
        "            if keypoints_sequence.shape != (sequence_length, 225):\n",
        "                print(f\"Invalid shape: {action}/{sequence_name} ({keypoints_sequence.shape})\")\n",
        "                continue\n",
        "\n",
        "            sequences.append(keypoints_sequence)\n",
        "            labels.append(label_map[action])\n",
        "            word_counts[action] += 1\n",
        "\n",
        "    return np.array(sequences), np.array(labels), dict(word_counts)\n",
        "\n",
        "# Run function to load data\n",
        "sequences, labels, word_counts = load_sequences_from_path(output_path, all_words, label_map, sequence_length)\n",
        "\n",
        "# Display results table\n",
        "df = pd.DataFrame(word_counts.items(), columns=[\"Word\", \"Count\"]).sort_values(\"Count\")\n",
        "print(df)\n",
        "\n",
        "# List words with less than 37 samples\n",
        "low_count_words = df[df[\"Count\"] < 37][\"Word\"].tolist()\n",
        "print(\"\\nWords with less than 20 examples:\")\n",
        "print(low_count_words)\n"
      ]
    },
    {
      "cell_type": "code",
      "execution_count": null,
      "metadata": {
        "colab": {
          "base_uri": "https://localhost:8080/"
        },
        "gather": {
          "logged": 1750153551414
        },
        "id": "N3JE9DRC5asl",
        "outputId": "f1fd14c2-580b-4bf3-bcf7-b3baccd94c4f"
      },
      "outputs": [
        {
          "name": "stdout",
          "output_type": "stream",
          "text": [
            "{'Bye': 0, 'beautiful': 1, 'bird': 2, 'book': 3, 'but': 4, 'can': 5, 'dad': 6, 'dance': 7, 'day': 8, 'deaf': 9, 'drink': 10, 'eat': 11, 'enjoy': 12, 'family': 13, 'go': 14, 'help': 15, 'love': 16, 'mom': 17, 'need': 18, 'no': 19, 'red': 20, 'sick': 21, 'son': 22, 'study': 23, 'tall': 24, 'thank you': 25, 'tired': 26, 'write': 27, 'yes': 28, 'you': 29}\n"
          ]
        }
      ],
      "source": [
        "# Initialize empty lists for storing all sequences and their corresponding labels\n",
        "all_sequences, all_labels = [], []\n",
        "\n",
        "# Get the list of action labels (folder names in the dataset path)\n",
        "actions = sorted(os.listdir(DATA_PATH))  # Example: ['book', 'hello', 'love', ...]\n",
        "\n",
        "# Create a mapping from action name to integer label\n",
        "label_map = {action: i for i, action in enumerate(actions)}\n",
        "\n",
        "# Print the label mapping to verify\n",
        "print(label_map)\n"
      ]
    },
    {
      "cell_type": "markdown",
      "metadata": {
        "id": "3PWH9nFpl1Yj"
      },
      "source": [
        "Load sequences"
      ]
    },
    {
      "cell_type": "code",
      "execution_count": null,
      "metadata": {
        "gather": {
          "logged": 1750153626347
        },
        "id": "atFWDPDZ7Gys"
      },
      "outputs": [],
      "source": [
        "import os  # File operations\n",
        "import numpy as np  # Array operations\n",
        "\n",
        "def load_sequences_from_path(base_path, actions, label_map, sequence_length):\n",
        "    sequences = []\n",
        "    labels = []\n",
        "\n",
        "    for action in actions:\n",
        "        action_path = os.path.join(base_path, action)\n",
        "        if not os.path.isdir(action_path):\n",
        "            print(f\"Missing folder: {action_path}\")\n",
        "            continue\n",
        "\n",
        "        for seq_name in sorted(os.listdir(action_path)):\n",
        "            seq_path = os.path.join(action_path, seq_name, \"keypoints.npy\")\n",
        "            if not os.path.exists(seq_path):\n",
        "                print(f\"Missing file: {action}/{seq_name}\")\n",
        "                continue\n",
        "\n",
        "            kp = np.load(seq_path)\n",
        "\n",
        "            # Check shape (sequence_length frames × 225 features)\n",
        "            if kp.shape != (sequence_length, 225):\n",
        "                print(f\"Invalid shape: {action}/{seq_name} ({kp.shape}) -> Skipping!\")\n",
        "                continue\n",
        "\n",
        "            sequences.append(kp)\n",
        "            labels.append(label_map[action])  # Integer label\n",
        "\n",
        "    return np.array(sequences), labels\n"
      ]
    },
    {
      "cell_type": "code",
      "execution_count": null,
      "metadata": {
        "gather": {
          "logged": 1750153642797
        }
      },
      "outputs": [
        {
          "name": "stdout",
          "output_type": "stream",
          "text": [
            " 2 (bird        ): 75 examples\n",
            " 3 (book        ): 72 examples\n",
            " 7 (dance       ): 67 examples\n",
            "29 (you         ): 67 examples\n",
            "17 (mom         ): 55 examples\n",
            "28 (yes         ): 53 examples\n",
            " 6 (dad         ): 52 examples\n",
            " 9 (deaf        ): 52 examples\n",
            "11 (eat         ): 51 examples\n",
            "19 (no          ): 50 examples\n",
            "13 (family      ): 48 examples\n",
            "26 (tired       ): 48 examples\n",
            "23 (study       ): 47 examples\n",
            "15 (help        ): 46 examples\n",
            "16 (love        ): 46 examples\n",
            "10 (drink       ): 42 examples\n",
            " 4 (but         ): 41 examples\n",
            "18 (need        ): 41 examples\n",
            "20 (red         ): 41 examples\n",
            "21 (sick        ): 39 examples\n",
            "27 (write       ): 39 examples\n",
            " 1 (beautiful   ): 35 examples\n",
            " 8 (day         ): 34 examples\n",
            "22 (son         ): 34 examples\n",
            " 5 (can         ): 32 examples\n",
            "14 (go          ): 30 examples\n",
            "25 (thank you   ): 29 examples\n",
            "24 (tall        ): 27 examples\n",
            "12 (enjoy       ): 25 examples\n",
            " 0 (Bye         ): 19 examples\n"
          ]
        }
      ],
      "source": [
        "from collections import Counter  # Count label occurrences\n",
        "\n",
        "label_map = {action: idx for idx, action in enumerate(actions)}  # Map action to label\n",
        "\n",
        "# Load sequences and labels\n",
        "all_sequences, all_labels = load_sequences_from_path(DATA_PATH, actions, label_map, sequence_length)\n",
        "\n",
        "# Count examples per label\n",
        "label_counts = Counter(all_labels)\n",
        "\n",
        "# Print counts per label, sorted by count descending\n",
        "for label, count in sorted(label_counts.items(), key=lambda x: -x[1]):\n",
        "    print(f\"{label:2d} ({actions[label]:12s}): {count} examples\")\n"
      ]
    },
    {
      "cell_type": "code",
      "execution_count": null,
      "metadata": {
        "gather": {
          "logged": 1750153642982
        }
      },
      "outputs": [],
      "source": [
        "import numpy as np\n",
        "from collections import Counter\n",
        "import random\n",
        "\n",
        "def balance_with_light_augmentation(X, y, target_count=50, seed=42):\n",
        "    \"\"\"\n",
        "    Balance dataset with light augmentation: duplicates + small noise\n",
        "    \"\"\"\n",
        "    random.seed(seed)\n",
        "    np.random.seed(seed)\n",
        "    \n",
        "    def add_light_noise(seq, noise_scale=0.005):\n",
        "        \"\"\"Add small random noise to a sequence\"\"\"\n",
        "        noise = np.random.normal(0, noise_scale, seq.shape)\n",
        "        return seq + noise\n",
        "    \n",
        "    y = np.array(y, dtype=int)\n",
        "    X = np.array(X)\n",
        "    \n",
        "    counts = Counter(y)\n",
        "    X_bal, y_bal = [], []\n",
        "    \n",
        "    print(f\"Balancing classes to {target_count} examples (duplicates + light noise)\")\n",
        "    \n",
        "    for label, cnt in counts.items():\n",
        "        idxs = np.where(y == label)[0]\n",
        "        if len(idxs) == 0:\n",
        "            continue\n",
        "            \n",
        "        print(f\"Class {label}: {cnt} → {target_count}\")\n",
        "        \n",
        "        if cnt >= target_count:\n",
        "            # Undersample: select random examples\n",
        "            chosen = np.random.choice(idxs, size=target_count, replace=False)\n",
        "            for i in chosen:\n",
        "                X_bal.append(X[i])\n",
        "                y_bal.append(label)\n",
        "        else:\n",
        "            # Keep all existing examples\n",
        "            for i in idxs:\n",
        "                X_bal.append(X[i])\n",
        "                y_bal.append(label)\n",
        "            \n",
        "            # Add extra examples with or without noise\n",
        "            missing = target_count - cnt\n",
        "            chosen = np.random.choice(idxs, size=missing, replace=True)\n",
        "            \n",
        "            for i in chosen:\n",
        "                if np.random.random() < 0.5:\n",
        "                    X_bal.append(X[i])  # Plain duplicate\n",
        "                else:\n",
        "                    X_bal.append(add_light_noise(X[i]))  # Duplicate with light noise\n",
        "                y_bal.append(label)\n",
        "    \n",
        "    # Final shuffle\n",
        "    X_bal = np.stack(X_bal, axis=0)\n",
        "    y_bal = np.array(y_bal, dtype=int)\n",
        "    perm = np.random.permutation(len(y_bal))\n",
        "    \n",
        "    print(f\"Done: {len(X_bal)} balanced examples\")\n",
        "    return X_bal[perm], y_bal[perm]\n",
        "\n",
        "# Run balancing function\n",
        "print(\"Balancing dataset with light augmentation...\")\n",
        "\n",
        "all_sequences, all_labels = balance_with_light_augmentation(\n",
        "    all_sequences, \n",
        "    all_labels, \n",
        "    target_count=75, \n",
        "    seed=42\n",
        ")\n"
      ]
    },
    {
      "cell_type": "code",
      "execution_count": null,
      "metadata": {
        "gather": {
          "logged": 1750153643146
        }
      },
      "outputs": [
        {
          "name": "stdout",
          "output_type": "stream",
          "text": [
            " 8 (day         ): 75 examples\n",
            " 6 (dad         ): 75 examples\n",
            "21 (sick        ): 75 examples\n",
            " 3 (book        ): 75 examples\n",
            " 5 (can         ): 75 examples\n",
            "20 (red         ): 75 examples\n",
            "18 (need        ): 75 examples\n",
            " 1 (beautiful   ): 75 examples\n",
            "22 (son         ): 75 examples\n",
            "26 (tired       ): 75 examples\n",
            " 2 (bird        ): 75 examples\n",
            "11 (eat         ): 75 examples\n",
            "12 (enjoy       ): 75 examples\n",
            "13 (family      ): 75 examples\n",
            "27 (write       ): 75 examples\n",
            "15 (help        ): 75 examples\n",
            " 0 (Bye         ): 75 examples\n",
            "23 (study       ): 75 examples\n",
            "19 (no          ): 75 examples\n",
            " 4 (but         ): 75 examples\n",
            " 7 (dance       ): 75 examples\n",
            "14 (go          ): 75 examples\n",
            "25 (thank you   ): 75 examples\n",
            "16 (love        ): 75 examples\n",
            " 9 (deaf        ): 75 examples\n",
            "29 (you         ): 75 examples\n",
            "24 (tall        ): 75 examples\n",
            "17 (mom         ): 75 examples\n",
            "28 (yes         ): 75 examples\n",
            "10 (drink       ): 75 examples\n"
          ]
        }
      ],
      "source": [
        "label_counts = Counter(all_labels)  # Count examples per label\n",
        "\n",
        "# Print counts sorted by descending number of examples\n",
        "for label, count in sorted(label_counts.items(), key=lambda x: -x[1]):\n",
        "    word = actions[label]\n",
        "    print(f\"{label:2d} ({word:12s}): {count} examples\")\n"
      ]
    },
    {
      "cell_type": "code",
      "execution_count": null,
      "metadata": {
        "colab": {
          "base_uri": "https://localhost:8080/"
        },
        "gather": {
          "logged": 1750153643267
        },
        "id": "NT-EcSSlhmpT",
        "outputId": "d1f7accf-0739-4959-e880-3c14f05896db"
      },
      "outputs": [
        {
          "name": "stdout",
          "output_type": "stream",
          "text": [
            "(2250, 30, 225)\n",
            "(2250,)\n"
          ]
        }
      ],
      "source": [
        "all_sequences = np.array(all_sequences)  # All samples\n",
        "all_labels = np.array(all_labels)  # All labels\n",
        "\n",
        "print(all_sequences.shape)  # Shape: (samples, 30, 225)\n",
        "print(all_labels.shape)  # Shape: (samples,)\n",
        "\n",
        "print(np.mean(all_sequences), np.std(all_sequences))  # Mean and std of the data\n"
      ]
    },
    {
      "cell_type": "code",
      "execution_count": null,
      "metadata": {
        "colab": {
          "base_uri": "https://localhost:8080/"
        },
        "gather": {
          "logged": 1750153647372
        },
        "id": "z-Cxsuto9WQS",
        "outputId": "4a29c68e-d90c-4fef-8f95-9d800a23ed77"
      },
      "outputs": [
        {
          "name": "stdout",
          "output_type": "stream",
          "text": [
            " Training samples: 1800\n",
            " Test samples: 225\n",
            "\n",
            " Class balance after split:\n",
            " Training: {7: 60, 18: 60, 3: 60, 19: 60, 27: 60, 17: 60, 29: 60, 12: 60, 22: 60, 1: 60, 10: 60, 25: 60, 5: 60, 26: 60, 21: 60, 24: 60, 28: 60, 14: 60, 2: 60, 11: 60, 20: 60, 6: 60, 15: 60, 16: 60, 8: 60, 0: 60, 13: 60, 23: 60, 4: 60, 9: 60}\n",
            " Test:    {9: 7, 12: 7, 27: 7, 26: 8, 29: 8, 21: 8, 5: 7, 0: 7, 25: 8, 28: 7, 1: 8, 20: 8, 11: 7, 22: 8, 17: 7, 2: 8, 23: 7, 4: 7, 18: 8, 16: 7, 3: 8, 14: 8, 24: 7, 6: 8, 8: 7, 13: 7, 10: 8, 15: 7, 7: 8, 19: 8}\n"
          ]
        }
      ],
      "source": [
        "from collections import Counter  # Count class occurrences\n",
        "from sklearn.model_selection import train_test_split  # Data splitting\n",
        "\n",
        "# First split: 80% train, 20% temporary set (for val/test)\n",
        "X_train, X_temp, y_train, y_temp = train_test_split(\n",
        "    all_sequences, all_labels,\n",
        "    test_size=0.2,\n",
        "    stratify=all_labels,\n",
        "    random_state=42\n",
        ")\n",
        "\n",
        "# Second split: temp → 50% validation, 50% test (10% each of total)\n",
        "X_val, X_test, y_val, y_test = train_test_split(\n",
        "    X_temp, y_temp,\n",
        "    test_size=0.5,\n",
        "    stratify=y_temp,\n",
        "    random_state=42\n",
        ")\n",
        "\n",
        "# Count class distribution in train and test sets\n",
        "train_counts = Counter(y_train)\n",
        "test_counts = Counter(y_test)\n",
        "\n",
        "# Display split summary\n",
        "print(f\"Training samples: {len(X_train)}\")\n",
        "print(f\"Test samples: {len(X_test)}\")\n",
        "print(\"\\nClass balance after split:\")\n",
        "print(\"Training:\", dict(train_counts))\n",
        "print(\"Test:   \", dict(test_counts))\n",
        "\n",
        "# Total number of unique classes\n",
        "num_classes = len(set(all_labels))\n"
      ]
    },
    {
      "cell_type": "code",
      "execution_count": null,
      "metadata": {
        "gather": {
          "logged": 1750153647520
        }
      },
      "outputs": [
        {
          "name": "stdout",
          "output_type": "stream",
          "text": [
            " Training samples: 1800\n",
            " val samples: 225\n",
            " test samples: 225\n"
          ]
        }
      ],
      "source": [
        "print(f\"Training samples: {len(X_train)}\")  # Number of training examples\n",
        "print(f\"Validation samples: {len(X_val)}\")  # Number of validation examples\n",
        "print(f\"Test samples: {len(X_test)}\")  # Number of test examples"
      ]
    },
    {
      "cell_type": "code",
      "execution_count": null,
      "metadata": {
        "colab": {
          "base_uri": "https://localhost:8080/",
          "height": 531
        },
        "gather": {
          "logged": 1750154445310
        },
        "id": "oTGkGASuQjro",
        "outputId": "08369566-202a-4e2c-8bf8-c896a27b6e21"
      },
      "outputs": [],
      "source": [
        "import tensorflow as tf\n",
        "from tensorflow.keras.models import Model\n",
        "from tensorflow.keras.layers import (\n",
        "    Input, Conv1D, BatchNormalization, Activation, Dropout,\n",
        "    Bidirectional, LSTM, Dense\n",
        ")\n",
        "\n",
        "# Settings\n",
        "sequence_length = 30\n",
        "feat_dim = 225\n",
        "num_classes = 30\n",
        "\n",
        "# Improved model with lower regularization, higher capacity\n",
        "inp = Input(shape=(sequence_length, feat_dim))\n",
        "\n",
        "# Feature extraction\n",
        "x = Conv1D(96, kernel_size=5, padding='same', activation='relu')(inp)\n",
        "x = BatchNormalization()(x)\n",
        "x = Dropout(0.2)(x)\n",
        "\n",
        "x = Conv1D(128, kernel_size=3, padding='same', activation='relu')(x)\n",
        "x = BatchNormalization()(x)\n",
        "x = Dropout(0.25)(x)\n",
        "\n",
        "# Temporal modeling with 2 Bidirectional LSTMs\n",
        "x = Bidirectional(LSTM(64, return_sequences=True, dropout=0.2, recurrent_dropout=0.1))(x)\n",
        "x = Dropout(0.25)(x)\n",
        "\n",
        "x = Bidirectional(LSTM(48, dropout=0.2, recurrent_dropout=0.1))(x)\n",
        "x = Dropout(0.3)(x)\n",
        "\n",
        "# Classifier\n",
        "x = Dense(64, activation='relu')(x)\n",
        "x = Dropout(0.4)(x)\n",
        "out = Dense(num_classes, activation='softmax')(x)\n",
        "\n",
        "model = Model(inputs=inp, outputs=out, name='Improved2LSTM_Model')\n",
        "\n",
        "model.compile(\n",
        "    optimizer=tf.keras.optimizers.Adam(learning_rate=5e-4),\n",
        "    loss='sparse_categorical_crossentropy',\n",
        "    metrics=['sparse_categorical_accuracy']\n",
        ")\n",
        "\n",
        "model.summary()\n",
        "\n",
        "# Callbacks\n",
        "callbacks = [\n",
        "    tf.keras.callbacks.EarlyStopping(\n",
        "        monitor=\"val_loss\",\n",
        "        patience=15,\n",
        "        restore_best_weights=True,\n",
        "        verbose=1\n",
        "    ),\n",
        "    tf.keras.callbacks.ReduceLROnPlateau(\n",
        "        monitor=\"val_loss\",\n",
        "        factor=0.7,\n",
        "        patience=6,\n",
        "        min_lr=1e-6,\n",
        "        verbose=1\n",
        "    ),\n",
        "    tf.keras.callbacks.ModelCheckpoint(\n",
        "        'best_model.h5',\n",
        "        monitor='val_sparse_categorical_accuracy',\n",
        "        save_best_only=True,\n",
        "        mode='max',\n",
        "        verbose=1\n",
        "    )\n",
        "]\n",
        "\n",
        "\n",
        "history = model.fit(\n",
        "    X_train, y_train,\n",
        "    validation_data=(X_val, y_val),\n",
        "    epochs=80,\n",
        "    batch_size=16,\n",
        "    callbacks=callbacks,\n",
        "    verbose=1\n",
        ")\n"
      ]
    },
    {
      "cell_type": "code",
      "execution_count": null,
      "metadata": {
        "colab": {
          "base_uri": "https://localhost:8080/"
        },
        "gather": {
          "logged": 1750155444122
        },
        "id": "OiHGCsu1J83O",
        "outputId": "4e7ce050-b435-48d6-93f8-798f4e4e8a43"
      },
      "outputs": [
        {
          "name": "stdout",
          "output_type": "stream",
          "text": [
            "8/8 - 0s - 19ms/step - loss: 0.4570 - sparse_categorical_accuracy: 0.8578\n",
            "Test accuracy: 85.78%\n"
          ]
        }
      ],
      "source": [
        "test_loss, test_acc = model.evaluate(X_test, y_test, verbose=2)\n",
        "\n",
        "#Display test accuracy as a percentage\n",
        "print(f\"Test accuracy: {test_acc * 100:.2f}%\")\n"
      ]
    },
    {
      "cell_type": "code",
      "execution_count": null,
      "metadata": {
        "gather": {
          "logged": 1748351117316
        }
      },
      "outputs": [
        {
          "name": "stderr",
          "output_type": "stream",
          "text": [
            "/anaconda/envs/azureml_py38/lib/python3.10/site-packages/keras/src/engine/training.py:3103: UserWarning: You are saving your model as an HDF5 file via `model.save()`. This file format is considered legacy. We recommend using instead the native Keras format, e.g. `model.save('my_model.keras')`.\n",
            "  saving_api.save_model(\n"
          ]
        }
      ],
      "source": [
        "model.save(\"best_model.h5\")\n"
      ]
    },
    {
      "cell_type": "code",
      "execution_count": null,
      "metadata": {
        "gather": {
          "logged": 1750155431353
        }
      },
      "outputs": [
        {
          "data": {
            "image/png": "[encoded data removed]",
            "text/plain": [
              "<Figure size 1000x400 with 1 Axes>"
            ]
          },
          "metadata": {},
          "output_type": "display_data"
        },
        {
          "data": {
            "image/png": "[encoded data removed]",
            "text/plain": [
              "<Figure size 1000x400 with 1 Axes>"
            ]
          },
          "metadata": {},
          "output_type": "display_data"
        }
      ],
      "source": [
        "import matplotlib.pyplot as plt  # Plotting\n",
        "\n",
        "# Accuracy graph\n",
        "plt.figure(figsize=(10, 4))\n",
        "plt.plot(history.history['sparse_categorical_accuracy'], label='Training Accuracy')\n",
        "plt.plot(history.history['val_sparse_categorical_accuracy'], label='Validation Accuracy')\n",
        "plt.title('Model Accuracy')\n",
        "plt.xlabel('Epoch')\n",
        "plt.ylabel('Accuracy')\n",
        "plt.legend()\n",
        "plt.grid(True)\n",
        "plt.show()\n",
        "\n",
        "# Loss graph\n",
        "plt.figure(figsize=(10, 4))\n",
        "plt.plot(history.history['loss'], label='Training Loss')\n",
        "plt.plot(history.history['val_loss'], label='Validation Loss')\n",
        "plt.title('Model Loss')\n",
        "plt.xlabel('Epoch')\n",
        "plt.ylabel('Loss')\n",
        "plt.legend()\n",
        "plt.grid(True)\n",
        "plt.show()\n"
      ]
    },
    {
      "cell_type": "code",
      "execution_count": 12,
      "metadata": {
        "gather": {
          "logged": 1750153027090
        }
      },
      "outputs": [
        {
          "name": "stdout",
          "output_type": "stream",
          "text": [
            "/anaconda/envs/jupyter_env/bin/python\n"
          ]
        }
      ],
      "source": [
        "import sys\n",
        "print(sys.executable)\n"
      ]
    }
  ],
  "metadata": {
    "colab": {
      "provenance": []
    },
    "kernel_info": {
      "name": "python38-azureml"
    },
    "kernelspec": {
      "display_name": "Python 3.10 - AzureML",
      "language": "python",
      "name": "python38-azureml"
    },
    "language_info": {
      "codemirror_mode": {
        "name": "ipython",
        "version": 3
      },
      "file_extension": ".py",
      "mimetype": "text/x-python",
      "name": "python",
      "nbconvert_exporter": "python",
      "pygments_lexer": "ipython3",
      "version": "3.10.11"
    },
    "microsoft": {
      "host": {
        "AzureML": {
          "notebookHasBeenCompleted": true
        }
      },
      "ms_spell_check": {
        "ms_spell_check_language": "en"
      }
    },
    "nteract": {
      "version": "nteract-front-end@1.0.0"
    }
  },
  "nbformat": 4,
  "nbformat_minor": 0
}
